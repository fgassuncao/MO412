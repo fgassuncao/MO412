{
  "nbformat": 4,
  "nbformat_minor": 0,
  "metadata": {
    "colab": {
      "provenance": [],
      "mount_file_id": "1TI_NcKvyAhTGBkoKdtBOVCplbDEJj6Hc",
      "authorship_tag": "ABX9TyOx72RjKghPoM/ryYdZgjnp",
      "include_colab_link": true
    },
    "kernelspec": {
      "name": "python3",
      "display_name": "Python 3"
    },
    "language_info": {
      "name": "python"
    }
  },
  "cells": [
    {
      "cell_type": "markdown",
      "metadata": {
        "id": "view-in-github",
        "colab_type": "text"
      },
      "source": [
        "<a href=\"https://colab.research.google.com/github/fgassuncao/MO412/blob/main/assignment_5/assignment_5_iynb.ipynb\" target=\"_parent\"><img src=\"https://colab.research.google.com/assets/colab-badge.svg\" alt=\"Open In Colab\"/></a>"
      ]
    },
    {
      "cell_type": "markdown",
      "source": [
        "##Fábio Gomes de Assunção 233664\n",
        "### Assignment 5 - Cayley's Tree - k = 3 (from FA row)\n",
        "##### (Obs.1: Formulas are showed at each correspondent code)\n",
        "##### (Obs.2: Conclusions about growth due to P writting at the end)\n",
        "\n"
      ],
      "metadata": {
        "id": "fZZwIzizM9PG"
      }
    },
    {
      "cell_type": "markdown",
      "source": [
        "## Imports"
      ],
      "metadata": {
        "id": "YZz0ZIz_NnSk"
      }
    },
    {
      "cell_type": "code",
      "execution_count": 1,
      "metadata": {
        "id": "QNffbVOj9u31"
      },
      "outputs": [],
      "source": [
        "import numpy as np\n",
        "import networkx as nx #imports networkX stuff\n",
        "import pandas as pd"
      ]
    },
    {
      "cell_type": "markdown",
      "source": [
        "## Readings\n"
      ],
      "metadata": {
        "id": "MeJnxeXAM8H1"
      }
    },
    {
      "cell_type": "code",
      "source": [
        "from google.colab import drive\n",
        "drive.mount('/content/drive')"
      ],
      "metadata": {
        "colab": {
          "base_uri": "https://localhost:8080/",
          "height": 0
        },
        "id": "XZNqTxWr92aF",
        "outputId": "22d99ea3-45cf-4940-8003-dc7c0b32d424"
      },
      "execution_count": 2,
      "outputs": [
        {
          "output_type": "stream",
          "name": "stdout",
          "text": [
            "Drive already mounted at /content/drive; to attempt to forcibly remount, call drive.mount(\"/content/drive\", force_remount=True).\n"
          ]
        }
      ]
    },
    {
      "cell_type": "code",
      "source": [
        "path = \"/content/drive/MyDrive/Colab Notebooks/data_MO412/5/\""
      ],
      "metadata": {
        "id": "Da5ZyNo095cn"
      },
      "execution_count": 3,
      "outputs": []
    },
    {
      "cell_type": "code",
      "source": [
        "df_links = pd.read_csv(f\"{path}k.csv\",header=None)"
      ],
      "metadata": {
        "id": "uDr9KNhP99Jy"
      },
      "execution_count": 4,
      "outputs": []
    },
    {
      "cell_type": "code",
      "source": [
        "df_links"
      ],
      "metadata": {
        "colab": {
          "base_uri": "https://localhost:8080/",
          "height": 488
        },
        "id": "q27PnD-V-pe7",
        "outputId": "9aa5193d-fc42-4480-be7f-e3d8cab85126"
      },
      "execution_count": 5,
      "outputs": [
        {
          "output_type": "execute_result",
          "data": {
            "text/plain": [
              "     0   1\n",
              "0   AI  16\n",
              "1   FG   3\n",
              "2   GO   4\n",
              "3   LO   5\n",
              "4   LG   6\n",
              "5   IB   7\n",
              "6   MA   8\n",
              "7   MF   9\n",
              "8   MM  10\n",
              "9   MI  11\n",
              "10  PH  12\n",
              "11  RB  13\n",
              "12  RC  14\n",
              "13  VJ  15"
            ],
            "text/html": [
              "\n",
              "  <div id=\"df-f9d6d421-0692-431d-bf6a-1f05f79fef25\">\n",
              "    <div class=\"colab-df-container\">\n",
              "      <div>\n",
              "<style scoped>\n",
              "    .dataframe tbody tr th:only-of-type {\n",
              "        vertical-align: middle;\n",
              "    }\n",
              "\n",
              "    .dataframe tbody tr th {\n",
              "        vertical-align: top;\n",
              "    }\n",
              "\n",
              "    .dataframe thead th {\n",
              "        text-align: right;\n",
              "    }\n",
              "</style>\n",
              "<table border=\"1\" class=\"dataframe\">\n",
              "  <thead>\n",
              "    <tr style=\"text-align: right;\">\n",
              "      <th></th>\n",
              "      <th>0</th>\n",
              "      <th>1</th>\n",
              "    </tr>\n",
              "  </thead>\n",
              "  <tbody>\n",
              "    <tr>\n",
              "      <th>0</th>\n",
              "      <td>AI</td>\n",
              "      <td>16</td>\n",
              "    </tr>\n",
              "    <tr>\n",
              "      <th>1</th>\n",
              "      <td>FG</td>\n",
              "      <td>3</td>\n",
              "    </tr>\n",
              "    <tr>\n",
              "      <th>2</th>\n",
              "      <td>GO</td>\n",
              "      <td>4</td>\n",
              "    </tr>\n",
              "    <tr>\n",
              "      <th>3</th>\n",
              "      <td>LO</td>\n",
              "      <td>5</td>\n",
              "    </tr>\n",
              "    <tr>\n",
              "      <th>4</th>\n",
              "      <td>LG</td>\n",
              "      <td>6</td>\n",
              "    </tr>\n",
              "    <tr>\n",
              "      <th>5</th>\n",
              "      <td>IB</td>\n",
              "      <td>7</td>\n",
              "    </tr>\n",
              "    <tr>\n",
              "      <th>6</th>\n",
              "      <td>MA</td>\n",
              "      <td>8</td>\n",
              "    </tr>\n",
              "    <tr>\n",
              "      <th>7</th>\n",
              "      <td>MF</td>\n",
              "      <td>9</td>\n",
              "    </tr>\n",
              "    <tr>\n",
              "      <th>8</th>\n",
              "      <td>MM</td>\n",
              "      <td>10</td>\n",
              "    </tr>\n",
              "    <tr>\n",
              "      <th>9</th>\n",
              "      <td>MI</td>\n",
              "      <td>11</td>\n",
              "    </tr>\n",
              "    <tr>\n",
              "      <th>10</th>\n",
              "      <td>PH</td>\n",
              "      <td>12</td>\n",
              "    </tr>\n",
              "    <tr>\n",
              "      <th>11</th>\n",
              "      <td>RB</td>\n",
              "      <td>13</td>\n",
              "    </tr>\n",
              "    <tr>\n",
              "      <th>12</th>\n",
              "      <td>RC</td>\n",
              "      <td>14</td>\n",
              "    </tr>\n",
              "    <tr>\n",
              "      <th>13</th>\n",
              "      <td>VJ</td>\n",
              "      <td>15</td>\n",
              "    </tr>\n",
              "  </tbody>\n",
              "</table>\n",
              "</div>\n",
              "      <button class=\"colab-df-convert\" onclick=\"convertToInteractive('df-f9d6d421-0692-431d-bf6a-1f05f79fef25')\"\n",
              "              title=\"Convert this dataframe to an interactive table.\"\n",
              "              style=\"display:none;\">\n",
              "        \n",
              "  <svg xmlns=\"http://www.w3.org/2000/svg\" height=\"24px\"viewBox=\"0 0 24 24\"\n",
              "       width=\"24px\">\n",
              "    <path d=\"M0 0h24v24H0V0z\" fill=\"none\"/>\n",
              "    <path d=\"M18.56 5.44l.94 2.06.94-2.06 2.06-.94-2.06-.94-.94-2.06-.94 2.06-2.06.94zm-11 1L8.5 8.5l.94-2.06 2.06-.94-2.06-.94L8.5 2.5l-.94 2.06-2.06.94zm10 10l.94 2.06.94-2.06 2.06-.94-2.06-.94-.94-2.06-.94 2.06-2.06.94z\"/><path d=\"M17.41 7.96l-1.37-1.37c-.4-.4-.92-.59-1.43-.59-.52 0-1.04.2-1.43.59L10.3 9.45l-7.72 7.72c-.78.78-.78 2.05 0 2.83L4 21.41c.39.39.9.59 1.41.59.51 0 1.02-.2 1.41-.59l7.78-7.78 2.81-2.81c.8-.78.8-2.07 0-2.86zM5.41 20L4 18.59l7.72-7.72 1.47 1.35L5.41 20z\"/>\n",
              "  </svg>\n",
              "      </button>\n",
              "      \n",
              "  <style>\n",
              "    .colab-df-container {\n",
              "      display:flex;\n",
              "      flex-wrap:wrap;\n",
              "      gap: 12px;\n",
              "    }\n",
              "\n",
              "    .colab-df-convert {\n",
              "      background-color: #E8F0FE;\n",
              "      border: none;\n",
              "      border-radius: 50%;\n",
              "      cursor: pointer;\n",
              "      display: none;\n",
              "      fill: #1967D2;\n",
              "      height: 32px;\n",
              "      padding: 0 0 0 0;\n",
              "      width: 32px;\n",
              "    }\n",
              "\n",
              "    .colab-df-convert:hover {\n",
              "      background-color: #E2EBFA;\n",
              "      box-shadow: 0px 1px 2px rgba(60, 64, 67, 0.3), 0px 1px 3px 1px rgba(60, 64, 67, 0.15);\n",
              "      fill: #174EA6;\n",
              "    }\n",
              "\n",
              "    [theme=dark] .colab-df-convert {\n",
              "      background-color: #3B4455;\n",
              "      fill: #D2E3FC;\n",
              "    }\n",
              "\n",
              "    [theme=dark] .colab-df-convert:hover {\n",
              "      background-color: #434B5C;\n",
              "      box-shadow: 0px 1px 3px 1px rgba(0, 0, 0, 0.15);\n",
              "      filter: drop-shadow(0px 1px 2px rgba(0, 0, 0, 0.3));\n",
              "      fill: #FFFFFF;\n",
              "    }\n",
              "  </style>\n",
              "\n",
              "      <script>\n",
              "        const buttonEl =\n",
              "          document.querySelector('#df-f9d6d421-0692-431d-bf6a-1f05f79fef25 button.colab-df-convert');\n",
              "        buttonEl.style.display =\n",
              "          google.colab.kernel.accessAllowed ? 'block' : 'none';\n",
              "\n",
              "        async function convertToInteractive(key) {\n",
              "          const element = document.querySelector('#df-f9d6d421-0692-431d-bf6a-1f05f79fef25');\n",
              "          const dataTable =\n",
              "            await google.colab.kernel.invokeFunction('convertToInteractive',\n",
              "                                                     [key], {});\n",
              "          if (!dataTable) return;\n",
              "\n",
              "          const docLinkHtml = 'Like what you see? Visit the ' +\n",
              "            '<a target=\"_blank\" href=https://colab.research.google.com/notebooks/data_table.ipynb>data table notebook</a>'\n",
              "            + ' to learn more about interactive tables.';\n",
              "          element.innerHTML = '';\n",
              "          dataTable['output_type'] = 'display_data';\n",
              "          await google.colab.output.renderOutput(dataTable, element);\n",
              "          const docLink = document.createElement('div');\n",
              "          docLink.innerHTML = docLinkHtml;\n",
              "          element.appendChild(docLink);\n",
              "        }\n",
              "      </script>\n",
              "    </div>\n",
              "  </div>\n",
              "  "
            ]
          },
          "metadata": {},
          "execution_count": 5
        }
      ]
    },
    {
      "cell_type": "markdown",
      "source": [
        "## Calculation"
      ],
      "metadata": {
        "id": "N0NAAuCk_Q7J"
      }
    },
    {
      "cell_type": "markdown",
      "source": [
        "#### Setting k =  3 from the .CSV row \"FG\""
      ],
      "metadata": {
        "id": "P1m4KV-nNygY"
      }
    },
    {
      "cell_type": "code",
      "source": [
        "k = df_links[df_links[0]==\"FG\"][1].values[0]"
      ],
      "metadata": {
        "id": "S1BCa1So_V5r"
      },
      "execution_count": 6,
      "outputs": []
    },
    {
      "cell_type": "markdown",
      "source": [
        "#### Calculating d_max"
      ],
      "metadata": {
        "id": "p5F1lnQ4N70w"
      }
    },
    {
      "cell_type": "markdown",
      "source": [
        "$d_{max} = P * 2$"
      ],
      "metadata": {
        "id": "lfXNoVEgQtdr"
      }
    },
    {
      "cell_type": "code",
      "source": [
        "def dmax(p):\n",
        "  return p*2"
      ],
      "metadata": {
        "id": "-6z8j1DU_aOT"
      },
      "execution_count": 7,
      "outputs": []
    },
    {
      "cell_type": "markdown",
      "source": [
        "#### Calculating N"
      ],
      "metadata": {
        "id": "MiNijn_nOD4G"
      }
    },
    {
      "cell_type": "markdown",
      "source": [
        "$N(k,P) = 1 + \\sum\\limits_{i=1}^{p} k(k - 1)^{i-1}$"
      ],
      "metadata": {
        "id": "WBzYebKERtgC"
      }
    },
    {
      "cell_type": "code",
      "source": [
        "def numNodes(p, k):\n",
        "  total = 0\n",
        "  for i in range (1,p+1):\n",
        "    #print (i)\n",
        "    total += k * ((k-1) ** (i-1))\n",
        "    #print (total)\n",
        "  total += 1\n",
        "  return total\n"
      ],
      "metadata": {
        "id": "mkKd9JVR_pHg"
      },
      "execution_count": 8,
      "outputs": []
    },
    {
      "cell_type": "markdown",
      "source": [
        "#### Checking the calculations"
      ],
      "metadata": {
        "id": "TSiZcPn0OJZZ"
      }
    },
    {
      "cell_type": "code",
      "source": [
        "dmax(3)"
      ],
      "metadata": {
        "colab": {
          "base_uri": "https://localhost:8080/",
          "height": 0
        },
        "id": "ES0blQu3AwA4",
        "outputId": "b39de646-5f76-48f9-a1d4-ceeb2c5a49d4"
      },
      "execution_count": 9,
      "outputs": [
        {
          "output_type": "execute_result",
          "data": {
            "text/plain": [
              "6"
            ]
          },
          "metadata": {},
          "execution_count": 9
        }
      ]
    },
    {
      "cell_type": "code",
      "source": [
        "numNodes(3,3)"
      ],
      "metadata": {
        "colab": {
          "base_uri": "https://localhost:8080/",
          "height": 0
        },
        "id": "8D0xgCYMAwGe",
        "outputId": "fa0cc0df-11a2-4c49-f0e0-827fc4adc713"
      },
      "execution_count": 10,
      "outputs": [
        {
          "output_type": "execute_result",
          "data": {
            "text/plain": [
              "22"
            ]
          },
          "metadata": {},
          "execution_count": 10
        }
      ]
    },
    {
      "cell_type": "markdown",
      "source": [
        "#### Applying the calculations for the range of P 1 to 10"
      ],
      "metadata": {
        "id": "7THzcQsGON3s"
      }
    },
    {
      "cell_type": "code",
      "source": [
        "resultDMax = []\n",
        "resultNumNodes = []\n",
        "for p in range (1,11):\n",
        "  resultDMax.append(dmax(p))\n",
        "  resultNumNodes.append(numNodes(p,k))\n"
      ],
      "metadata": {
        "id": "AyZ_VC9HCHV7"
      },
      "execution_count": 11,
      "outputs": []
    },
    {
      "cell_type": "code",
      "source": [
        "resultDMax"
      ],
      "metadata": {
        "colab": {
          "base_uri": "https://localhost:8080/",
          "height": 0
        },
        "id": "O6hm9Y9zC0X3",
        "outputId": "7b519c4f-1c9e-448b-acbd-0cfcbcdf521f"
      },
      "execution_count": 12,
      "outputs": [
        {
          "output_type": "execute_result",
          "data": {
            "text/plain": [
              "[2, 4, 6, 8, 10, 12, 14, 16, 18, 20]"
            ]
          },
          "metadata": {},
          "execution_count": 12
        }
      ]
    },
    {
      "cell_type": "code",
      "source": [
        "resultNumNodes"
      ],
      "metadata": {
        "colab": {
          "base_uri": "https://localhost:8080/",
          "height": 0
        },
        "id": "_7AgsfBADB1R",
        "outputId": "f3000566-7101-45bd-abb7-03d2c0c5e35a"
      },
      "execution_count": 13,
      "outputs": [
        {
          "output_type": "execute_result",
          "data": {
            "text/plain": [
              "[4, 10, 22, 46, 94, 190, 382, 766, 1534, 3070]"
            ]
          },
          "metadata": {},
          "execution_count": 13
        }
      ]
    },
    {
      "cell_type": "markdown",
      "source": [
        "## Plotting\n"
      ],
      "metadata": {
        "id": "QuY073tAD_-Z"
      }
    },
    {
      "cell_type": "markdown",
      "source": [
        "#### Plotting d_max"
      ],
      "metadata": {
        "id": "mAslP3VTOZsV"
      }
    },
    {
      "cell_type": "code",
      "source": [
        "import matplotlib.pyplot as plt #Ploting simple probabilities\n",
        "plt.scatter(np.arange(1,11),resultDMax) \n",
        "plt.ylabel(\"d_max\")\n",
        "plt.xlabel(\"P\")"
      ],
      "metadata": {
        "colab": {
          "base_uri": "https://localhost:8080/",
          "height": 296
        },
        "id": "RzzRIjIJEB7v",
        "outputId": "8eeeb56b-51cc-45b5-deb5-b5db818f7e85"
      },
      "execution_count": 14,
      "outputs": [
        {
          "output_type": "execute_result",
          "data": {
            "text/plain": [
              "Text(0.5, 0, 'P')"
            ]
          },
          "metadata": {},
          "execution_count": 14
        },
        {
          "output_type": "display_data",
          "data": {
            "text/plain": [
              "<Figure size 432x288 with 1 Axes>"
            ],
            "image/png": "[encoded data removed]"
          },
          "metadata": {
            "needs_background": "light"
          }
        }
      ]
    },
    {
      "cell_type": "markdown",
      "source": [
        "#### Ploting N"
      ],
      "metadata": {
        "id": "bYcit9ONOYhw"
      }
    },
    {
      "cell_type": "code",
      "source": [
        "plt.scatter(np.arange(1,11),resultNumNodes) \n",
        "plt.yscale(\"log\")\n",
        "plt.ylabel(\"N\")\n",
        "plt.xlabel(\"P\")"
      ],
      "metadata": {
        "colab": {
          "base_uri": "https://localhost:8080/",
          "height": 296
        },
        "id": "6IUSvb7ZFIwo",
        "outputId": "144c73cc-ef82-4462-a28b-4d585fa316b5"
      },
      "execution_count": 15,
      "outputs": [
        {
          "output_type": "execute_result",
          "data": {
            "text/plain": [
              "Text(0.5, 0, 'P')"
            ]
          },
          "metadata": {},
          "execution_count": 15
        },
        {
          "output_type": "display_data",
          "data": {
            "text/plain": [
              "<Figure size 432x288 with 1 Axes>"
            ],
            "image/png": "[encoded data removed]"
          },
          "metadata": {
            "needs_background": "light"
          }
        }
      ]
    },
    {
      "cell_type": "markdown",
      "source": [
        "## Observation about the growths\n",
        "\n",
        "### In Cayley's Tree all non leafs nodes have degree k (k = 1 on the leafs), granting symmetry. So, as the tree grows to new depths, the number of nodes grows as well to keep the symmetry, as presented at the 1st graphic, which we can see the d_max growing according to the increasing of P values. We can also see the growth of number of nodes as an exponential, due to the formula includes an exponent term as a component. An interesting point is, from the use of a logarithm scale on the 2nd grafic, the growth appearence got close the to 1st (without it, it seems more like an exponential curve).\n",
        "\n",
        "\n"
      ],
      "metadata": {
        "id": "pJq1-joOHEyU"
      }
    }
  ]
}